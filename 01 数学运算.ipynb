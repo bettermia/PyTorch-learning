{
 "cells": [
  {
   "cell_type": "markdown",
   "metadata": {},
   "source": [
    "# 1 numpy array 和 torch tensor 相互转换"
   ]
  },
  {
   "cell_type": "code",
   "execution_count": 1,
   "metadata": {},
   "outputs": [],
   "source": [
    "import torch\n",
    "import numpy as np"
   ]
  },
  {
   "cell_type": "code",
   "execution_count": 2,
   "metadata": {},
   "outputs": [],
   "source": [
    "np_data = np.arange(6).reshape((2,3))"
   ]
  },
  {
   "cell_type": "markdown",
   "metadata": {},
   "source": [
    "## 1.1 numpy array 转 torch tensor"
   ]
  },
  {
   "cell_type": "code",
   "execution_count": 3,
   "metadata": {},
   "outputs": [],
   "source": [
    "torch_data = torch.from_numpy(np_data)"
   ]
  },
  {
   "cell_type": "markdown",
   "metadata": {},
   "source": [
    "## 1.2 torch tensor 转 numpy array"
   ]
  },
  {
   "cell_type": "code",
   "execution_count": 4,
   "metadata": {},
   "outputs": [],
   "source": [
    "tensor2array = torch_data.numpy()"
   ]
  },
  {
   "cell_type": "code",
   "execution_count": 5,
   "metadata": {},
   "outputs": [
    {
     "name": "stdout",
     "output_type": "stream",
     "text": [
      "\n",
      "numpy array:\n",
      " [[0 1 2]\n",
      " [3 4 5]] \n",
      "torch tensor:\n",
      " tensor([[0, 1, 2],\n",
      "        [3, 4, 5]], dtype=torch.int32) \n",
      "tensor to array:\n",
      " [[0 1 2]\n",
      " [3 4 5]]\n"
     ]
    }
   ],
   "source": [
    "print(\n",
    "    '\\nnumpy array:\\n', np_data,\n",
    "    '\\ntorch tensor:\\n', torch_data,  \n",
    "    '\\ntensor to array:\\n', tensor2array, \n",
    ")"
   ]
  },
  {
   "cell_type": "markdown",
   "metadata": {},
   "source": [
    "# 2 Torch 中的数学运算"
   ]
  },
  {
   "cell_type": "markdown",
   "metadata": {},
   "source": [
    "## 2.1 绝对值计算"
   ]
  },
  {
   "cell_type": "code",
   "execution_count": 6,
   "metadata": {},
   "outputs": [],
   "source": [
    "data = [-1, -2, 1, 2]\n",
    "tensor = torch.FloatTensor(data) # 转换成32位浮点tensor"
   ]
  },
  {
   "cell_type": "code",
   "execution_count": 7,
   "metadata": {},
   "outputs": [
    {
     "name": "stdout",
     "output_type": "stream",
     "text": [
      "\n",
      "abs \n",
      "numpy: [1 2 1 2] \n",
      "torch: tensor([1., 2., 1., 2.])\n"
     ]
    }
   ],
   "source": [
    "print(\n",
    "    '\\nabs',\n",
    "    '\\nnumpy:', np.abs(data),\n",
    "    '\\ntorch:', torch.abs(tensor)\n",
    ")"
   ]
  },
  {
   "cell_type": "markdown",
   "metadata": {},
   "source": [
    "## 2.2 三角函数"
   ]
  },
  {
   "cell_type": "code",
   "execution_count": 8,
   "metadata": {},
   "outputs": [
    {
     "name": "stdout",
     "output_type": "stream",
     "text": [
      "\n",
      "sin \n",
      "numpy: [-0.84147098 -0.90929743  0.84147098  0.90929743] \n",
      "torch: tensor([-0.8415, -0.9093,  0.8415,  0.9093])\n"
     ]
    }
   ],
   "source": [
    "print(\n",
    "    '\\nsin',\n",
    "    '\\nnumpy:', np.sin(data),\n",
    "    '\\ntorch:', torch.sin(tensor))"
   ]
  },
  {
   "cell_type": "markdown",
   "metadata": {},
   "source": [
    "## 2.3 均值"
   ]
  },
  {
   "cell_type": "code",
   "execution_count": 9,
   "metadata": {},
   "outputs": [
    {
     "name": "stdout",
     "output_type": "stream",
     "text": [
      "\n",
      "mean \n",
      "numpy: 0.0 \n",
      "torch: tensor(0.)\n"
     ]
    }
   ],
   "source": [
    "print(\n",
    "    '\\nmean',\n",
    "    '\\nnumpy:', np.mean(data),\n",
    "    '\\ntorch:', torch.mean(tensor))"
   ]
  },
  {
   "cell_type": "markdown",
   "metadata": {},
   "source": [
    "## 2.4 矩阵点乘（dot product；scalar product；element-wise product）"
   ]
  },
  {
   "cell_type": "code",
   "execution_count": 10,
   "metadata": {},
   "outputs": [],
   "source": [
    "data = [[1,2], [3,4]]\n",
    "tensor = torch.FloatTensor(data)"
   ]
  },
  {
   "cell_type": "code",
   "execution_count": 11,
   "metadata": {},
   "outputs": [
    {
     "name": "stdout",
     "output_type": "stream",
     "text": [
      "\n",
      "matrix dot product \n",
      "numpy:\n",
      " [[ 1  4]\n",
      " [ 9 16]] \n",
      "torch:\n",
      " tensor([[ 1.,  4.],\n",
      "        [ 9., 16.]])\n"
     ]
    }
   ],
   "source": [
    "print(\n",
    "    '\\nmatrix dot product',\n",
    "    '\\nnumpy:\\n', np.multiply(data, data),\n",
    "    '\\ntorch:\\n', torch.mul(tensor, tensor))"
   ]
  },
  {
   "cell_type": "markdown",
   "metadata": {},
   "source": [
    "## 2.5 矩阵叉乘（matrix multiplication；matrix product）"
   ]
  },
  {
   "cell_type": "code",
   "execution_count": 12,
   "metadata": {},
   "outputs": [
    {
     "name": "stdout",
     "output_type": "stream",
     "text": [
      "\n",
      "matrix multiplication \n",
      "numpy:\n",
      " [[ 7 10]\n",
      " [15 22]] \n",
      "torch:\n",
      " tensor([[ 7., 10.],\n",
      "        [15., 22.]])\n"
     ]
    }
   ],
   "source": [
    "print(\n",
    "    '\\nmatrix multiplication',\n",
    "    '\\nnumpy:\\n', np.matmul(data, data),\n",
    "    '\\ntorch:\\n', torch.mm(tensor, tensor))"
   ]
  },
  {
   "cell_type": "code",
   "execution_count": null,
   "metadata": {},
   "outputs": [],
   "source": []
  }
 ],
 "metadata": {
  "kernelspec": {
   "display_name": "Python 3",
   "language": "python",
   "name": "python3"
  },
  "language_info": {
   "codemirror_mode": {
    "name": "ipython",
    "version": 3
   },
   "file_extension": ".py",
   "mimetype": "text/x-python",
   "name": "python",
   "nbconvert_exporter": "python",
   "pygments_lexer": "ipython3",
   "version": "3.6.4"
  }
 },
 "nbformat": 4,
 "nbformat_minor": 2
}
