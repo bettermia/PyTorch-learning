{
 "cells": [
  {
   "cell_type": "code",
   "execution_count": 1,
   "metadata": {
    "ExecuteTime": {
     "end_time": "2019-12-22T08:03:52.043840Z",
     "start_time": "2019-12-22T08:03:51.116099Z"
    }
   },
   "outputs": [],
   "source": [
    "import torch\n",
    "import torch.utils.data as Data"
   ]
  },
  {
   "cell_type": "code",
   "execution_count": 2,
   "metadata": {
    "ExecuteTime": {
     "end_time": "2019-12-22T08:03:52.645598Z",
     "start_time": "2019-12-22T08:03:52.639603Z"
    }
   },
   "outputs": [],
   "source": [
    "Batch_size = 5"
   ]
  },
  {
   "cell_type": "code",
   "execution_count": 3,
   "metadata": {
    "ExecuteTime": {
     "end_time": "2019-12-22T08:03:53.067274Z",
     "start_time": "2019-12-22T08:03:53.062300Z"
    }
   },
   "outputs": [],
   "source": [
    "x = torch.linspace(1, 10, 10)\n",
    "y = torch.linspace(10, 1, 10)"
   ]
  },
  {
   "cell_type": "code",
   "execution_count": 4,
   "metadata": {
    "ExecuteTime": {
     "end_time": "2019-12-22T08:03:53.509768Z",
     "start_time": "2019-12-22T08:03:53.504774Z"
    }
   },
   "outputs": [],
   "source": [
    "# 从Tensor转换为Dataset\n",
    "torch_dataset = Data.TensorDataset(x, y)"
   ]
  },
  {
   "cell_type": "code",
   "execution_count": 5,
   "metadata": {
    "ExecuteTime": {
     "end_time": "2019-12-22T08:03:54.093481Z",
     "start_time": "2019-12-22T08:03:54.088483Z"
    }
   },
   "outputs": [],
   "source": [
    "# 把 dataset 放入 DataLoader\n",
    "loader = Data.DataLoader(\n",
    "    dataset=torch_dataset,\n",
    "    batch_size=Batch_size,\n",
    "    shuffle=True,\n",
    "    num_workers=2      # 多线程来读数据\n",
    ")"
   ]
  },
  {
   "cell_type": "code",
   "execution_count": 6,
   "metadata": {
    "ExecuteTime": {
     "end_time": "2019-12-22T08:03:59.488499Z",
     "start_time": "2019-12-22T08:03:54.690527Z"
    }
   },
   "outputs": [
    {
     "name": "stdout",
     "output_type": "stream",
     "text": [
      "Epoch:  0 | Step:  0 | batch x:  [ 7.  9.  6.  1. 10.] | batch y:  [ 4.  2.  5. 10.  1.]\n",
      "Epoch:  0 | Step:  1 | batch x:  [4. 2. 8. 5. 3.] | batch y:  [7. 9. 3. 6. 8.]\n",
      "Epoch:  1 | Step:  0 | batch x:  [ 6.  4.  3. 10.  5.] | batch y:  [5. 7. 8. 1. 6.]\n",
      "Epoch:  1 | Step:  1 | batch x:  [1. 2. 8. 9. 7.] | batch y:  [10.  9.  3.  2.  4.]\n",
      "Epoch:  2 | Step:  0 | batch x:  [ 8.  9.  1.  6. 10.] | batch y:  [ 3.  2. 10.  5.  1.]\n",
      "Epoch:  2 | Step:  1 | batch x:  [3. 5. 4. 7. 2.] | batch y:  [8. 6. 7. 4. 9.]\n"
     ]
    }
   ],
   "source": [
    "for epoch in range(3):\n",
    "    for step,(batch_x, batch_y) in enumerate(loader):\n",
    "        # 假设这里就是你训练的地方...\n",
    "        \n",
    "        #  打出来一些数据\n",
    "        print('Epoch: ', epoch, '| Step: ', step, \n",
    "              '| batch x: ', batch_x.numpy(),\n",
    "              '| batch y: ', batch_y.numpy())"
   ]
  },
  {
   "cell_type": "markdown",
   "metadata": {},
   "source": [
    "可以看出, 每步都导出了5个数据进行学习. 然后每个 epoch 的导出数据都是先打乱了以后再导出.\n",
    "\n",
    "真正方便的还不是这点. 如果我们改变一下 `BATCH_SIZE = 8`, 这样我们就知道, `step=0` 会导出8个数据, 但是, `step=1` 时数据库中的数据不够 8个, 这时怎么办呢？\n",
    "\n",
    "这时, 在 `step=1` 就只给你返回这个 epoch 中剩下的数据就好了."
   ]
  },
  {
   "cell_type": "code",
   "execution_count": 7,
   "metadata": {
    "ExecuteTime": {
     "end_time": "2019-12-22T08:04:07.965558Z",
     "start_time": "2019-12-22T08:04:02.908358Z"
    }
   },
   "outputs": [
    {
     "name": "stdout",
     "output_type": "stream",
     "text": [
      "Epoch:  0 | Step:  0 | batch x:  [ 5.  3.  7.  2.  9.  8.  1. 10.] | batch y:  [ 6.  8.  4.  9.  2.  3. 10.  1.]\n",
      "Epoch:  0 | Step:  1 | batch x:  [4. 6.] | batch y:  [7. 5.]\n",
      "Epoch:  1 | Step:  0 | batch x:  [6. 3. 9. 2. 8. 7. 4. 1.] | batch y:  [ 5.  8.  2.  9.  3.  4.  7. 10.]\n",
      "Epoch:  1 | Step:  1 | batch x:  [10.  5.] | batch y:  [1. 6.]\n",
      "Epoch:  2 | Step:  0 | batch x:  [ 4.  3.  9. 10.  8.  2.  1.  5.] | batch y:  [ 7.  8.  2.  1.  3.  9. 10.  6.]\n",
      "Epoch:  2 | Step:  1 | batch x:  [7. 6.] | batch y:  [4. 5.]\n"
     ]
    }
   ],
   "source": [
    "Batch_size = 8\n",
    "\n",
    "# 把 dataset 放入 DataLoader\n",
    "loader = Data.DataLoader(\n",
    "    dataset=torch_dataset,\n",
    "    batch_size=Batch_size,\n",
    "    shuffle=True,\n",
    "    num_workers=2      # 多线程来读数据\n",
    ")\n",
    "\n",
    "for epoch in range(3):\n",
    "    for step,(batch_x, batch_y) in enumerate(loader):\n",
    "        # 假设这里就是你训练的地方...\n",
    "        \n",
    "        #  打出来一些数据\n",
    "        print('Epoch: ', epoch, '| Step: ', step, \n",
    "              '| batch x: ', batch_x.numpy(),\n",
    "              '| batch y: ', batch_y.numpy())"
   ]
  },
  {
   "cell_type": "code",
   "execution_count": null,
   "metadata": {},
   "outputs": [],
   "source": []
  }
 ],
 "metadata": {
  "kernelspec": {
   "display_name": "Python 3",
   "language": "python",
   "name": "python3"
  },
  "language_info": {
   "codemirror_mode": {
    "name": "ipython",
    "version": 3
   },
   "file_extension": ".py",
   "mimetype": "text/x-python",
   "name": "python",
   "nbconvert_exporter": "python",
   "pygments_lexer": "ipython3",
   "version": "3.6.4"
  },
  "varInspector": {
   "cols": {
    "lenName": 16,
    "lenType": 16,
    "lenVar": 40
   },
   "kernels_config": {
    "python": {
     "delete_cmd_postfix": "",
     "delete_cmd_prefix": "del ",
     "library": "var_list.py",
     "varRefreshCmd": "print(var_dic_list())"
    },
    "r": {
     "delete_cmd_postfix": ") ",
     "delete_cmd_prefix": "rm(",
     "library": "var_list.r",
     "varRefreshCmd": "cat(var_dic_list()) "
    }
   },
   "types_to_exclude": [
    "module",
    "function",
    "builtin_function_or_method",
    "instance",
    "_Feature"
   ],
   "window_display": false
  }
 },
 "nbformat": 4,
 "nbformat_minor": 2
}
