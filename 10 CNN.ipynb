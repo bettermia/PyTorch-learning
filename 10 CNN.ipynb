{
 "cells": [
  {
   "cell_type": "code",
   "execution_count": 1,
   "metadata": {
    "ExecuteTime": {
     "end_time": "2019-12-22T11:03:32.357426Z",
     "start_time": "2019-12-22T11:03:29.669041Z"
    }
   },
   "outputs": [],
   "source": [
    "import torch\n",
    "import torch.nn as nn\n",
    "import torch.utils.data as Data\n",
    "import torchvision   # 数据库模块\n",
    "import matplotlib.pyplot as plt"
   ]
  },
  {
   "cell_type": "markdown",
   "metadata": {},
   "source": [
    "# Hyper Parameters"
   ]
  },
  {
   "cell_type": "code",
   "execution_count": 3,
   "metadata": {
    "ExecuteTime": {
     "end_time": "2019-12-22T11:09:46.122298Z",
     "start_time": "2019-12-22T11:09:46.116303Z"
    }
   },
   "outputs": [],
   "source": [
    "EPOCH = 1\n",
    "BATCH_SIZE = 50\n",
    "LR = 0.001\n",
    "DOWNLOAD_MNIST = True # 是否要下载MNIST数据集"
   ]
  },
  {
   "cell_type": "markdown",
   "metadata": {},
   "source": [
    "# 加载MNIST数据集"
   ]
  },
  {
   "cell_type": "code",
   "execution_count": 4,
   "metadata": {
    "ExecuteTime": {
     "end_time": "2019-12-22T11:12:08.967640Z",
     "start_time": "2019-12-22T11:11:56.237644Z"
    }
   },
   "outputs": [
    {
     "name": "stdout",
     "output_type": "stream",
     "text": [
      "Downloading http://yann.lecun.com/exdb/mnist/train-images-idx3-ubyte.gz to ./mnist/MNIST\\raw\\train-images-idx3-ubyte.gz\n"
     ]
    },
    {
     "name": "stderr",
     "output_type": "stream",
     "text": [
      "100.1%"
     ]
    },
    {
     "name": "stdout",
     "output_type": "stream",
     "text": [
      "Extracting ./mnist/MNIST\\raw\\train-images-idx3-ubyte.gz to ./mnist/MNIST\\raw\n",
      "Downloading http://yann.lecun.com/exdb/mnist/train-labels-idx1-ubyte.gz to ./mnist/MNIST\\raw\\train-labels-idx1-ubyte.gz\n"
     ]
    },
    {
     "name": "stderr",
     "output_type": "stream",
     "text": [
      "113.5%"
     ]
    },
    {
     "name": "stdout",
     "output_type": "stream",
     "text": [
      "Extracting ./mnist/MNIST\\raw\\train-labels-idx1-ubyte.gz to ./mnist/MNIST\\raw\n",
      "Downloading http://yann.lecun.com/exdb/mnist/t10k-images-idx3-ubyte.gz to ./mnist/MNIST\\raw\\t10k-images-idx3-ubyte.gz\n"
     ]
    },
    {
     "name": "stderr",
     "output_type": "stream",
     "text": [
      "100.4%"
     ]
    },
    {
     "name": "stdout",
     "output_type": "stream",
     "text": [
      "Extracting ./mnist/MNIST\\raw\\t10k-images-idx3-ubyte.gz to ./mnist/MNIST\\raw\n",
      "Downloading http://yann.lecun.com/exdb/mnist/t10k-labels-idx1-ubyte.gz to ./mnist/MNIST\\raw\\t10k-labels-idx1-ubyte.gz\n"
     ]
    },
    {
     "name": "stderr",
     "output_type": "stream",
     "text": [
      "180.4%"
     ]
    },
    {
     "name": "stdout",
     "output_type": "stream",
     "text": [
      "Extracting ./mnist/MNIST\\raw\\t10k-labels-idx1-ubyte.gz to ./mnist/MNIST\\raw\n",
      "Processing...\n",
      "Done!\n"
     ]
    }
   ],
   "source": [
    "train_data = torchvision.datasets.MNIST(\n",
    "    root='./mnist/',   # 保存数据集的位置\n",
    "    train=True,      # 加载训练集\n",
    "    transform=torchvision.transforms.ToTensor(),\n",
    "    download=DOWNLOAD_MNIST\n",
    ")"
   ]
  },
  {
   "cell_type": "code",
   "execution_count": 5,
   "metadata": {
    "ExecuteTime": {
     "end_time": "2019-12-22T11:13:17.467216Z",
     "start_time": "2019-12-22T11:13:17.443208Z"
    }
   },
   "outputs": [],
   "source": [
    "test_data = torchvision.datasets.MNIST(root='./mnist/', train=False)"
   ]
  },
  {
   "cell_type": "code",
   "execution_count": 9,
   "metadata": {
    "ExecuteTime": {
     "end_time": "2019-12-22T11:26:54.188763Z",
     "start_time": "2019-12-22T11:26:54.151785Z"
    }
   },
   "outputs": [],
   "source": [
    "# 批训练：50 samples，1 channel，28x28（50，1，28，28）\n",
    "train_loader = Data.DataLoader(\n",
    "    dataset=train_data,\n",
    "    batch_size=BATCH_SIZE,\n",
    "    shuffle=True\n",
    ")\n",
    "\n",
    "# shape from (2000, 28, 28) to (2000, 1, 28, 28), value in range(0,1)\n",
    "test_x = torch.unsqueeze(test_data.data, dim=1).type(torch.FloatTensor)[:2000]/255\n",
    "test_y = test_data.targets[:2000]"
   ]
  },
  {
   "cell_type": "markdown",
   "metadata": {},
   "source": [
    "# 搭建模型"
   ]
  },
  {
   "cell_type": "markdown",
   "metadata": {},
   "source": [
    "PyTorch中 `view` 的用法:\n",
    "\n",
    "把原先tensor中的数据按照**行优先**的顺序排成一个一维的数据，然后按照参数指定的shape重构tensor。\n",
    "\n",
    "参数中的-1代表这个位置由其他位置的数字来推断。"
   ]
  },
  {
   "cell_type": "code",
   "execution_count": 12,
   "metadata": {
    "ExecuteTime": {
     "end_time": "2019-12-22T11:54:02.545359Z",
     "start_time": "2019-12-22T11:54:02.528368Z"
    }
   },
   "outputs": [],
   "source": [
    "class CNN(nn.Module):\n",
    "    def __init__(self):\n",
    "        super(CNN, self).__init__()\n",
    "        \n",
    "        self.conv1 = nn.Sequential(  # input shape (1,28,28)\n",
    "            nn.Conv2d(\n",
    "                in_channels=1,   # input channels\n",
    "                out_channels=16,  # n_filters\n",
    "                kernel_size=5,   # filter size\n",
    "                stride=1,        # filter step\n",
    "                padding=2\n",
    "            ),  # output shape (16,28,28)\n",
    "            nn.ReLU(),\n",
    "            nn.MaxPool2d(kernel_size=2) # 在2x2空间里向下采样，output shape(16,14,14)\n",
    "        )\n",
    "        \n",
    "        self.conv2 = nn.Sequential(   # input shape(16,14,14)\n",
    "            nn.Conv2d(16,32,5,1,2),   # output shape(32,14,14)\n",
    "            nn.ReLU(),\n",
    "            nn.MaxPool2d(2) # output shape(32,7,7)\n",
    "        )\n",
    "        \n",
    "        self.out = nn.Linear(32 * 7 * 7, 10) # fully connected layer, output 10 classes\n",
    "        \n",
    "    def forward(self, x):\n",
    "        x = self.conv1(x)\n",
    "        x = self.conv2(x)\n",
    "        x = x.view(x.size(0), -1)  # 展平多维的卷积结果为(batch_size, 32*7*7)\n",
    "        output = self.out(x)\n",
    "        return output"
   ]
  },
  {
   "cell_type": "code",
   "execution_count": 14,
   "metadata": {
    "ExecuteTime": {
     "end_time": "2019-12-22T11:54:17.638765Z",
     "start_time": "2019-12-22T11:54:17.630770Z"
    }
   },
   "outputs": [
    {
     "name": "stdout",
     "output_type": "stream",
     "text": [
      "CNN(\n",
      "  (conv1): Sequential(\n",
      "    (0): Conv2d(1, 16, kernel_size=(5, 5), stride=(1, 1), padding=(2, 2))\n",
      "    (1): ReLU()\n",
      "    (2): MaxPool2d(kernel_size=2, stride=2, padding=0, dilation=1, ceil_mode=False)\n",
      "  )\n",
      "  (conv2): Sequential(\n",
      "    (0): Conv2d(16, 32, kernel_size=(5, 5), stride=(1, 1), padding=(2, 2))\n",
      "    (1): ReLU()\n",
      "    (2): MaxPool2d(kernel_size=2, stride=2, padding=0, dilation=1, ceil_mode=False)\n",
      "  )\n",
      "  (out): Linear(in_features=1568, out_features=10, bias=True)\n",
      ")\n"
     ]
    }
   ],
   "source": [
    "cnn = CNN()\n",
    "print(cnn)"
   ]
  },
  {
   "cell_type": "markdown",
   "metadata": {},
   "source": [
    "# 训练"
   ]
  },
  {
   "cell_type": "code",
   "execution_count": 16,
   "metadata": {
    "ExecuteTime": {
     "end_time": "2019-12-22T12:19:14.174984Z",
     "start_time": "2019-12-22T12:15:09.210093Z"
    }
   },
   "outputs": [
    {
     "name": "stdout",
     "output_type": "stream",
     "text": [
      "Epoch:  0 | train loss: 2.3003 | test accuracy: 0.11\n",
      "Epoch:  0 | train loss: 0.6563 | test accuracy: 0.79\n",
      "Epoch:  0 | train loss: 0.1750 | test accuracy: 0.89\n",
      "Epoch:  0 | train loss: 0.1731 | test accuracy: 0.92\n",
      "Epoch:  0 | train loss: 0.2425 | test accuracy: 0.93\n",
      "Epoch:  0 | train loss: 0.1646 | test accuracy: 0.93\n",
      "Epoch:  0 | train loss: 0.2048 | test accuracy: 0.94\n",
      "Epoch:  0 | train loss: 0.1296 | test accuracy: 0.95\n",
      "Epoch:  0 | train loss: 0.1420 | test accuracy: 0.96\n",
      "Epoch:  0 | train loss: 0.0666 | test accuracy: 0.96\n",
      "Epoch:  0 | train loss: 0.0721 | test accuracy: 0.97\n",
      "Epoch:  0 | train loss: 0.0556 | test accuracy: 0.97\n",
      "Epoch:  0 | train loss: 0.1138 | test accuracy: 0.96\n",
      "Epoch:  0 | train loss: 0.0332 | test accuracy: 0.97\n",
      "Epoch:  0 | train loss: 0.0246 | test accuracy: 0.97\n",
      "Epoch:  0 | train loss: 0.1777 | test accuracy: 0.97\n",
      "Epoch:  0 | train loss: 0.0350 | test accuracy: 0.98\n",
      "Epoch:  0 | train loss: 0.0644 | test accuracy: 0.98\n",
      "Epoch:  0 | train loss: 0.0285 | test accuracy: 0.98\n",
      "Epoch:  0 | train loss: 0.0837 | test accuracy: 0.98\n",
      "Epoch:  0 | train loss: 0.0041 | test accuracy: 0.97\n",
      "Epoch:  0 | train loss: 0.0082 | test accuracy: 0.98\n",
      "Epoch:  0 | train loss: 0.0434 | test accuracy: 0.98\n",
      "Epoch:  0 | train loss: 0.0080 | test accuracy: 0.97\n",
      "[7 2 1 0 4 1 4 9 5 9] prediction number\n",
      "[7 2 1 0 4 1 4 9 5 9] real number\n"
     ]
    }
   ],
   "source": [
    "optimizer = torch.optim.Adam(cnn.parameters(), lr=LR)\n",
    "loss_func = nn.CrossEntropyLoss()\n",
    "\n",
    "for epoch in range(EPOCH):\n",
    "    for step,(batch_x, batch_y) in enumerate(train_loader):\n",
    "        output = cnn(batch_x)\n",
    "        loss = loss_func(output, batch_y)\n",
    "        optimizer.zero_grad()\n",
    "        loss.backward()\n",
    "        optimizer.step()\n",
    "        \n",
    "        if step % 50 == 0:\n",
    "            test_output = cnn(test_x)\n",
    "            pred_y = torch.max(test_output, 1)[1].data.numpy()\n",
    "            accuracy = float((pred_y == test_y.data.numpy()).astype(int).sum())/float(test_y.size(0))\n",
    "            print('Epoch: ', epoch, '| train loss: %.4f' % loss.data.numpy(), '| test accuracy: %.2f' % accuracy)\n",
    "\n",
    "# print 10 predictions from test data\n",
    "test_output = cnn(test_x[:10])\n",
    "pred_y = torch.max(test_output, 1)[1].data.numpy()\n",
    "print(pred_y, 'prediction number')\n",
    "print(test_y[:10].numpy(), 'real number')"
   ]
  },
  {
   "cell_type": "code",
   "execution_count": null,
   "metadata": {},
   "outputs": [],
   "source": []
  }
 ],
 "metadata": {
  "kernelspec": {
   "display_name": "Python 3",
   "language": "python",
   "name": "python3"
  },
  "language_info": {
   "codemirror_mode": {
    "name": "ipython",
    "version": 3
   },
   "file_extension": ".py",
   "mimetype": "text/x-python",
   "name": "python",
   "nbconvert_exporter": "python",
   "pygments_lexer": "ipython3",
   "version": "3.6.4"
  },
  "varInspector": {
   "cols": {
    "lenName": 16,
    "lenType": 16,
    "lenVar": 40
   },
   "kernels_config": {
    "python": {
     "delete_cmd_postfix": "",
     "delete_cmd_prefix": "del ",
     "library": "var_list.py",
     "varRefreshCmd": "print(var_dic_list())"
    },
    "r": {
     "delete_cmd_postfix": ") ",
     "delete_cmd_prefix": "rm(",
     "library": "var_list.r",
     "varRefreshCmd": "cat(var_dic_list()) "
    }
   },
   "types_to_exclude": [
    "module",
    "function",
    "builtin_function_or_method",
    "instance",
    "_Feature"
   ],
   "window_display": false
  }
 },
 "nbformat": 4,
 "nbformat_minor": 2
}
